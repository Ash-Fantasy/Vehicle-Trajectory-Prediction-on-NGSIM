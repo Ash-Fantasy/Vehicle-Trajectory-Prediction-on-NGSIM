{
 "cells": [
  {
   "cell_type": "code",
   "execution_count": 1,
   "metadata": {},
   "outputs": [],
   "source": [
    "import csv\n",
    "import pandas as pd\n",
    "f1=pd.read_csv(\"/home/mt/learn/NGSIM数据处理/csv/80/5:15-5:30/new/Double_label.csv\")\n",
    "f2=pd.read_csv(\"/home/mt/learn/NGSIM数据处理/csv/80/5:00-5:15/训练数据新/Double_label.csv\")"
   ]
  },
  {
   "cell_type": "code",
   "execution_count": 2,
   "metadata": {},
   "outputs": [],
   "source": [
    "import numpy as np\n",
    "def normalize(train):\n",
    "  train_norm = train.apply(lambda x: (x - np.mean(x)) / (np.max(x) - np.min(x)))\n",
    "  return train_norm"
   ]
  },
  {
   "cell_type": "code",
   "execution_count": 3,
   "metadata": {},
   "outputs": [],
   "source": [
    "df1=normalize(f1)\n",
    "df2=normalize(f2)\n",
    "df1.to_csv(\"/home/mt/learn/NGSIM数据处理/csv/80/5:15-5:30/new/Double_train.csv\",index=False)\n",
    "# df2.to_csv(\"/home/mt/learn/NGSIM数据处理/csv/80/5:00-5:15/训练数据新/Double_train.csv\",index=False)"
   ]
  }
 ],
 "metadata": {
  "kernelspec": {
   "display_name": "Python 3",
   "language": "python",
   "name": "python3"
  },
  "language_info": {
   "codemirror_mode": {
    "name": "ipython",
    "version": 3
   },
   "file_extension": ".py",
   "mimetype": "text/x-python",
   "name": "python",
   "nbconvert_exporter": "python",
   "pygments_lexer": "ipython3",
   "version": "3.5.2"
  }
 },
 "nbformat": 4,
 "nbformat_minor": 2
}
