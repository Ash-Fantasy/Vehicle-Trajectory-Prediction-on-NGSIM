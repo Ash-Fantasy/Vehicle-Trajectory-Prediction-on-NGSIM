{
 "cells": [
  {
   "cell_type": "code",
   "execution_count": 15,
   "metadata": {},
   "outputs": [],
   "source": [
    "import scipy as sp\n",
    "import numpy as np\n",
    "from sklearn import metrics\n",
    "from sklearn.linear_model import LogisticRegression\n",
    "import pandas as pd"
   ]
  },
  {
   "cell_type": "code",
   "execution_count": 17,
   "metadata": {},
   "outputs": [],
   "source": [
    "f1=pd.read_csv('/home/mt/learn/NGSIM数据处理/csv/合并数据/v1-y4_400-500.csv')\n",
    "f2=pd.read_csv('/home/mt/learn/NGSIM数据处理/csv/80/5:15-5:30/new/v1-y4_new.csv')\n",
    "train_data = f1[f1.columns[2:-1]]\n",
    "train_truth = f1['label']\n",
    "test_data=f2[f2.columns[2:-1]]\n",
    "test_truth=f2['label']"
   ]
  },
  {
   "cell_type": "code",
   "execution_count": 18,
   "metadata": {},
   "outputs": [
    {
     "name": "stdout",
     "output_type": "stream",
     "text": [
      "LogisticRegression(C=100, class_weight='balanced', dual=False,\n",
      "          fit_intercept=True, intercept_scaling=1, max_iter=1000,\n",
      "          multi_class='ovr', n_jobs=1, penalty='l2', random_state=None,\n",
      "          solver='liblinear', tol=0.0001, verbose=0, warm_start=False)\n",
      "             precision    recall  f1-score   support\n",
      "\n",
      "          0       0.80      0.33      0.47       627\n",
      "          1       0.42      0.85      0.56       357\n",
      "\n",
      "avg / total       0.66      0.52      0.50       984\n",
      "\n",
      "[[209 418]\n",
      " [ 52 305]]\n"
     ]
    }
   ],
   "source": [
    "#调用逻辑斯特回归\n",
    "model = LogisticRegression(class_weight='balanced',C=100,max_iter=1000)\n",
    "model.fit(train_data, train_truth)\n",
    "print(model)       #输出模型\n",
    "# make predictions\n",
    "predict_reg= model.predict(test_data)       #测试样本预测\n",
    "#输出结果\n",
    "print(metrics.classification_report(test_truth, predict_reg))       #输出结果，精确度、召回率、f-1分数\n",
    "print(metrics.confusion_matrix(test_truth, predict_reg))   "
   ]
  },
  {
   "cell_type": "code",
   "execution_count": null,
   "metadata": {},
   "outputs": [],
   "source": []
  }
 ],
 "metadata": {
  "kernelspec": {
   "display_name": "Python 3",
   "language": "python",
   "name": "python3"
  },
  "language_info": {
   "codemirror_mode": {
    "name": "ipython",
    "version": 3
   },
   "file_extension": ".py",
   "mimetype": "text/x-python",
   "name": "python",
   "nbconvert_exporter": "python",
   "pygments_lexer": "ipython3",
   "version": "3.5.2"
  }
 },
 "nbformat": 4,
 "nbformat_minor": 2
}
