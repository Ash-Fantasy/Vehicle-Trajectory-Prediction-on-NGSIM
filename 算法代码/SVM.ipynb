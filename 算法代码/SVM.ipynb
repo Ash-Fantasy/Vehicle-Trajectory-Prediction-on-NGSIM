{
 "cells": [
  {
   "cell_type": "code",
   "execution_count": 1,
   "metadata": {},
   "outputs": [],
   "source": [
    "import pandas as pd\n",
    "import numpy as np\n",
    "from sklearn import metrics\n",
    "from sklearn import svm"
   ]
  },
  {
   "cell_type": "code",
   "execution_count": 2,
   "metadata": {},
   "outputs": [],
   "source": [
    "f1=pd.read_csv('/home/mt/learn/NGSIM数据处理/csv/合并数据/v1-y4_new.csv')\n",
    "f2=pd.read_csv('/home/mt/learn/NGSIM数据处理/csv/101/8:20-8:35/new/v1-y4_new.csv')\n",
    "train_data = f1[f1.columns[2:-1]]\n",
    "train_truth = f1['label']\n",
    "test_data=f2[f2.columns[2:-1]]\n",
    "test_truth=f2['label']"
   ]
  },
  {
   "cell_type": "code",
   "execution_count": 20,
   "metadata": {},
   "outputs": [
    {
     "name": "stdout",
     "output_type": "stream",
     "text": [
      "SVC(C=4.7, cache_size=200, class_weight='balanced', coef0=0.0,\n",
      "  decision_function_shape='ovo', degree=3, gamma='auto', kernel='sigmoid',\n",
      "  max_iter=-1, probability=False, random_state=None, shrinking=True,\n",
      "  tol=0.001, verbose=False)\n",
      "             precision    recall  f1-score   support\n",
      "\n",
      "          0       0.76      1.00      0.86       892\n",
      "          1       0.00      0.00      0.00       283\n",
      "\n",
      "avg / total       0.58      0.76      0.66      1175\n",
      "\n",
      "[[892   0]\n",
      " [283   0]]\n"
     ]
    },
    {
     "name": "stderr",
     "output_type": "stream",
     "text": [
      "/usr/local/lib/python3.5/dist-packages/sklearn/metrics/classification.py:1135: UndefinedMetricWarning: Precision and F-score are ill-defined and being set to 0.0 in labels with no predicted samples.\n",
      "  'precision', 'predicted', average, warn_for)\n"
     ]
    }
   ],
   "source": [
    "model = svm.SVC(C=4.7, kernel='sigmoid', decision_function_shape='ovo',class_weight='balanced')\n",
    "print(model)\n",
    "model.fit(train_data, train_truth)\n",
    "predict_svm=model.predict(test_data)\n",
    "print(metrics.classification_report(test_truth, predict_svm))       #输出结果，精确度、召回率、f-1分数\n",
    "print(metrics.confusion_matrix(test_truth, predict_svm))   "
   ]
  }
 ],
 "metadata": {
  "kernelspec": {
   "display_name": "Python 3",
   "language": "python",
   "name": "python3"
  },
  "language_info": {
   "codemirror_mode": {
    "name": "ipython",
    "version": 3
   },
   "file_extension": ".py",
   "mimetype": "text/x-python",
   "name": "python",
   "nbconvert_exporter": "python",
   "pygments_lexer": "ipython3",
   "version": "3.5.2"
  }
 },
 "nbformat": 4,
 "nbformat_minor": 2
}
