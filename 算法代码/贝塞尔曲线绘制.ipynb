{
 "cells": [
  {
   "cell_type": "code",
   "execution_count": 1,
   "metadata": {},
   "outputs": [],
   "source": [
    "import numpy as np\n",
    "import matplotlib.pyplot as plt"
   ]
  },
  {
   "cell_type": "code",
   "execution_count": 2,
   "metadata": {},
   "outputs": [],
   "source": [
    "def make_bezier(xys):\n",
    "    # xys should be a sequence of 2-tuples (Bezier control points)\n",
    "    n = len(xys)\n",
    "    combinations = pascal_row(n-1)\n",
    "    def bezier(ts):\n",
    "        # This uses the generalized formula for bezier curves\n",
    "        # http://en.wikipedia.org/wiki/B%C3%A9zier_curve#Generalization\n",
    "        result = []\n",
    "        for t in ts:\n",
    "            tpowers = (t**i for i in range(n))\n",
    "            upowers = reversed([(1-t)**i for i in range(n)])\n",
    "            coefs = [c*a*b for c, a, b in zip(combinations, tpowers, upowers)]\n",
    "            result.append(\n",
    "                tuple(sum([coef*p for coef, p in zip(coefs, ps)]) for ps in zip(*xys)))\n",
    "        return result\n",
    "    return bezier\n",
    "def pascal_row(n):\n",
    "    # This returns the nth row of Pascal's Triangle\n",
    "    result = [1]\n",
    "    x, numerator = 1, n\n",
    "    for denominator in range(1, n//2+1):\n",
    "        # print(numerator,denominator,x)\n",
    "        x *= numerator\n",
    "        x /= denominator\n",
    "        result.append(x)\n",
    "        numerator -= 1\n",
    "    if n&1 == 0:\n",
    "        # n is even\n",
    "        result.extend(reversed(result[:-1]))\n",
    "    else:\n",
    "        result.extend(reversed(result)) \n",
    "    return result"
   ]
  },
  {
   "cell_type": "code",
   "execution_count": 3,
   "metadata": {},
   "outputs": [],
   "source": [
    "# from PIL import Image\n",
    "# from PIL import ImageDraw\n",
    "# if __name__ == '__main__':\n",
    "#     im = Image.new('RGBA', (100, 100), (0, 0, 0, 0)) \n",
    "#     draw = ImageDraw.Draw(im)\n",
    "#     ts = [t/100.0 for t in range(101)]\n",
    "#     xys = [(50, 100), (80, 80), (100, 50)]\n",
    "#     bezier = make_bezier(xys)\n",
    "#     points = bezier(ts)\n",
    "#     print(len(points))\n",
    "#     xys = [(100, 50), (100, 0), (50, 0), (50, 35)]\n",
    "#     bezier = make_bezier(xys)\n",
    "#     points.extend(bezier(ts))\n",
    "#     print(len(points))\n",
    "#     xys = [(50, 35), (50, 0), (0, 0), (0, 50)]\n",
    "#     bezier = make_bezier(xys)\n",
    "#     points.extend(bezier(ts))\n",
    "#     print(len(points))\n",
    "#     xys = [(0, 50), (20, 80), (50, 100)]\n",
    "#     bezier = make_bezier(xys)\n",
    "#     points.extend(bezier(ts))\n",
    "#     draw.polygon(points)\n"
   ]
  },
  {
   "cell_type": "code",
   "execution_count": 4,
   "metadata": {
    "scrolled": true
   },
   "outputs": [
    {
     "data": {
      "text/plain": [
       "array([[  53.639     , 1467.942     ],\n",
       "       [  53.69330524, 1468.53038487],\n",
       "       [  53.74673821, 1469.11649073],\n",
       "       [  53.79935411, 1469.70042338],\n",
       "       [  53.85120734, 1470.28228715],\n",
       "       [  53.90235139, 1470.86218493],\n",
       "       [  53.95283895, 1471.44021812],\n",
       "       [  54.00272184, 1472.0164867 ],\n",
       "       [  54.05205101, 1472.59108915],\n",
       "       [  54.1008766 , 1473.16412253],\n",
       "       [  54.14924786, 1473.73568241],\n",
       "       [  54.19721322, 1474.3058629 ],\n",
       "       [  54.24482024, 1474.87475669],\n",
       "       [  54.29211564, 1475.44245496],\n",
       "       [  54.33914528, 1476.00904747],\n",
       "       [  54.38595418, 1476.5746225 ],\n",
       "       [  54.4325865 , 1477.13926687],\n",
       "       [  54.47908556, 1477.70306596],\n",
       "       [  54.52549382, 1478.26610367],\n",
       "       [  54.5718529 , 1478.82846244],\n",
       "       [  54.61820355, 1479.39022328],\n",
       "       [  54.66458569, 1479.9514657 ],\n",
       "       [  54.71103838, 1480.51226779],\n",
       "       [  54.75759983, 1481.07270614],\n",
       "       [  54.8043074 , 1481.63285592],\n",
       "       [  54.85119761, 1482.19279082],\n",
       "       [  54.8983061 , 1482.75258307],\n",
       "       [  54.9456677 , 1483.31230345],\n",
       "       [  54.99331635, 1483.87202127],\n",
       "       [  55.04128518, 1484.43180439],\n",
       "       [  55.08960643, 1484.9917192 ],\n",
       "       [  55.13831151, 1485.55183066],\n",
       "       [  55.18743097, 1486.11220223],\n",
       "       [  55.23699454, 1486.67289593],\n",
       "       [  55.28703105, 1487.23397233],\n",
       "       [  55.33756852, 1487.79549053],\n",
       "       [  55.3886341 , 1488.35750816],\n",
       "       [  55.44025409, 1488.92008142],\n",
       "       [  55.49245395, 1489.48326503],\n",
       "       [  55.54525828, 1490.04711224],\n",
       "       [  55.59869084, 1490.61167488],\n",
       "       [  55.65277452, 1491.17700328],\n",
       "       [  55.70753137, 1491.74314633],\n",
       "       [  55.76298261, 1492.31015146],\n",
       "       [  55.81914857, 1492.87806464],\n",
       "       [  55.87604876, 1493.44693038],\n",
       "       [  55.93370183, 1494.01679172],\n",
       "       [  55.99212558, 1494.58769027],\n",
       "       [  56.05133695, 1495.15966614],\n",
       "       [  56.11135205, 1495.73275802],\n",
       "       [  56.17218611, 1496.30700313],\n",
       "       [  56.23385355, 1496.8824372 ],\n",
       "       [  56.2963679 , 1497.45909454],\n",
       "       [  56.35974186, 1498.03700799],\n",
       "       [  56.42398727, 1498.61620892],\n",
       "       [  56.48911514, 1499.19672725],\n",
       "       [  56.55513561, 1499.77859144],\n",
       "       [  56.62205796, 1500.36182849],\n",
       "       [  56.68989065, 1500.94646393],\n",
       "       [  56.75864126, 1501.53252185],\n",
       "       [  56.82831655, 1502.12002488],\n",
       "       [  56.89892239, 1502.70899417],\n",
       "       [  56.97046384, 1503.29944943],\n",
       "       [  57.04294508, 1503.8914089 ],\n",
       "       [  57.11636945, 1504.48488936],\n",
       "       [  57.19073945, 1505.07990615],\n",
       "       [  57.26605671, 1505.67647313],\n",
       "       [  57.34232202, 1506.2746027 ],\n",
       "       [  57.41953533, 1506.87430583],\n",
       "       [  57.49769571, 1507.47559198],\n",
       "       [  57.57680141, 1508.0784692 ],\n",
       "       [  57.65684982, 1508.68294406],\n",
       "       [  57.73783746, 1509.28902167],\n",
       "       [  57.81976003, 1509.89670567],\n",
       "       [  57.90261236, 1510.50599827],\n",
       "       [  57.98638844, 1511.1169002 ],\n",
       "       [  58.0710814 , 1511.72941072],\n",
       "       [  58.15668352, 1512.34352767],\n",
       "       [  58.24318624, 1512.95924739],\n",
       "       [  58.33058014, 1513.57656478],\n",
       "       [  58.41885496, 1514.19547328],\n",
       "       [  58.50799957, 1514.81596487],\n",
       "       [  58.59800201, 1515.43803007],\n",
       "       [  58.68884946, 1516.06165794],\n",
       "       [  58.78052825, 1516.68683607],\n",
       "       [  58.87302385, 1517.31355063],\n",
       "       [  58.96632091, 1517.94178627],\n",
       "       [  59.06040319, 1518.57152624],\n",
       "       [  59.15525362, 1519.20275229],\n",
       "       [  59.25085429, 1519.83544473],\n",
       "       [  59.34718642, 1520.4695824 ],\n",
       "       [  59.44423039, 1521.1051427 ],\n",
       "       [  59.54196572, 1521.74210155],\n",
       "       [  59.6403711 , 1522.38043342],\n",
       "       [  59.73942433, 1523.02011132],\n",
       "       [  59.83910241, 1523.6611068 ],\n",
       "       [  59.93938146, 1524.30338995],\n",
       "       [  60.04023674, 1524.9469294 ],\n",
       "       [  60.14164268, 1525.59169233],\n",
       "       [  60.24357286, 1526.23764444],\n",
       "       [  60.346     , 1526.88475   ]])"
      ]
     },
     "execution_count": 4,
     "metadata": {},
     "output_type": "execute_result"
    }
   ],
   "source": [
    "ts = [t/100.0 for t in range(101)]\n",
    "xys=np.array([[53.639,1467.942],[55.008, 1482.681],[55.60343482, 1495.43155],[57.77934222, 1510.693],[60.346,1526.88475]])\n",
    "bezier = make_bezier(xys)\n",
    "points = bezier(ts)\n",
    "points=np.array(points)\n",
    "points"
   ]
  },
  {
   "cell_type": "code",
   "execution_count": 5,
   "metadata": {},
   "outputs": [
    {
     "data": {
      "image/png": "[encoded data removed]",
      "text/plain": [
       "<Figure size 432x288 with 1 Axes>"
      ]
     },
     "metadata": {
      "needs_background": "light"
     },
     "output_type": "display_data"
    }
   ],
   "source": [
    "x_truth=points[:,0]\n",
    "y_truth=points[:,1]\n",
    "# plt.plot(s_tol[:,0],s_tol[:,1],'+')\n",
    "plt.plot(xys[:,0],xys[:,1], label = \"val\", color='blue', marker='+')\n",
    "plt.plot(x_truth,y_truth, label = \"truth\", color='red', marker='|')\n",
    "# plt.plot(x_val,y_val_ran, label = \"ran\", color='green', marker='|')\n",
    "# plt.scatter(x1,y1,s=20,c=T,alpha=0.5)\n",
    "plt.show()"
   ]
  }
 ],
 "metadata": {
  "kernelspec": {
   "display_name": "Python 3",
   "language": "python",
   "name": "python3"
  },
  "language_info": {
   "codemirror_mode": {
    "name": "ipython",
    "version": 3
   },
   "file_extension": ".py",
   "mimetype": "text/x-python",
   "name": "python",
   "nbconvert_exporter": "python",
   "pygments_lexer": "ipython3",
   "version": "3.5.2"
  }
 },
 "nbformat": 4,
 "nbformat_minor": 2
}
