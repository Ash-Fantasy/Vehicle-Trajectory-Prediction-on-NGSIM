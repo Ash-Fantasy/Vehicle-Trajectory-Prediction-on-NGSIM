{
 "cells": [
  {
   "cell_type": "code",
   "execution_count": 16,
   "metadata": {},
   "outputs": [],
   "source": [
    "import pandas as pd\n",
    "import numpy as np\n",
    "f1=pd.read_csv('/home/mt/learn/NGSIM数据处理/csv/合并数据/v1-y4_400-500.csv')\n",
    "f2=pd.read_csv('/home/mt/learn/NGSIM数据处理/csv/80/5:15-5:30/new/v1-y4_new.csv')\n",
    "train_data = f1[f1.columns[2:-1]]\n",
    "train_truth = f1['label']\n",
    "test_data=f2[f2.columns[2:-1]]\n",
    "test_truth=f2['label']"
   ]
  },
  {
   "cell_type": "code",
   "execution_count": 17,
   "metadata": {},
   "outputs": [],
   "source": [
    "import sklearn.ensemble as sk\n",
    "rfc = sk.RandomForestClassifier(n_estimators=500, oob_score=True)\n",
    "model = rfc.fit(train_data, train_truth)"
   ]
  },
  {
   "cell_type": "code",
   "execution_count": 18,
   "metadata": {},
   "outputs": [
    {
     "data": {
      "text/plain": [
       "0.7604212373848179"
      ]
     },
     "execution_count": 18,
     "metadata": {},
     "output_type": "execute_result"
    }
   ],
   "source": [
    "rfc.oob_score_"
   ]
  },
  {
   "cell_type": "code",
   "execution_count": 19,
   "metadata": {},
   "outputs": [
    {
     "data": {
      "text/plain": [
       "[(0.10458076134096513, 'Vehicle_ID'),\n",
       " (0.09920587402859388, 'Frame_ID'),\n",
       " (0.18391046441711226, 'v1'),\n",
       " (0.16530397930158328, 'v2'),\n",
       " (0.10650809436431447, 'v3'),\n",
       " (0.1054637336207783, 'v4'),\n",
       " (0.11104446370556367, 'y1'),\n",
       " (0.1239826292210892, 'y2')]"
      ]
     },
     "execution_count": 19,
     "metadata": {},
     "output_type": "execute_result"
    }
   ],
   "source": [
    "# 用 \"feature importance\" 得分来看最重要的10个特征\n",
    "fi = enumerate(rfc.feature_importances_)\n",
    "cols = f1.columns\n",
    "[(value,cols[i]) for (i,value) in fi if value > 0.04]\n",
    "## 这个值0.4是我们通过经验选取的，它恰好能够提供10个最好的特征。\n",
    "## 改变这个值的大小可以得到不同数量的特征。\n",
    "## 下面这句命令是防止你修改参数弄乱了后回不来的命令备份。\n",
    "## [(value,cols[i]) for (i,value) in fi if value > 0.04]"
   ]
  },
  {
   "cell_type": "code",
   "execution_count": 20,
   "metadata": {},
   "outputs": [],
   "source": [
    "# 因为pandas的 data frame 在第0列增加了一个假的未知列，所以我们从第1列开始。\n",
    "# not using subject column, activity ie target is in last columns hence -2 i.e dropping last 2 cols\n",
    "\n",
    "# val_data = f2[samval.columns[2:-1]]\n",
    "# val_truth = f2['label']\n",
    "# val_pred = rfc.predict(val_data)\n",
    "\n",
    "# test_data = f2[f2.columns[3:-1]]\n",
    "# test_truth = f2['label']\n",
    "test_pred = rfc.predict(test_data)"
   ]
  },
  {
   "cell_type": "code",
   "execution_count": 14,
   "metadata": {},
   "outputs": [
    {
     "data": {
      "text/plain": [
       "array([0, 0, 0, ..., 1, 1, 0])"
      ]
     },
     "execution_count": 14,
     "metadata": {},
     "output_type": "execute_result"
    }
   ],
   "source": [
    "# pre=np.reshape(test_pred,[-1,1])\n",
    "test_pred          "
   ]
  },
  {
   "cell_type": "code",
   "execution_count": 21,
   "metadata": {},
   "outputs": [
    {
     "name": "stdout",
     "output_type": "stream",
     "text": [
      "             precision    recall  f1-score   support\n",
      "\n",
      "          0       0.74      0.89      0.81       627\n",
      "          1       0.70      0.46      0.56       357\n",
      "\n",
      "avg / total       0.73      0.73      0.72       984\n",
      "\n",
      "[[557  70]\n",
      " [191 166]]\n"
     ]
    }
   ],
   "source": [
    "from sklearn import metrics\n",
    "print(metrics.classification_report(test_truth, test_pred  ))       #输出结果，精确度、召回率、f-1分数\n",
    "print(metrics.confusion_matrix(test_truth, test_pred  ))   "
   ]
  }
 ],
 "metadata": {
  "kernelspec": {
   "display_name": "Python 3",
   "language": "python",
   "name": "python3"
  },
  "language_info": {
   "codemirror_mode": {
    "name": "ipython",
    "version": 3
   },
   "file_extension": ".py",
   "mimetype": "text/x-python",
   "name": "python",
   "nbconvert_exporter": "python",
   "pygments_lexer": "ipython3",
   "version": "3.5.2"
  }
 },
 "nbformat": 4,
 "nbformat_minor": 2
}
