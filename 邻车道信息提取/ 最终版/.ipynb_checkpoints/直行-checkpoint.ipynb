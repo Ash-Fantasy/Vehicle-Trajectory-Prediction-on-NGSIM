{
 "cells": [
  {
   "cell_type": "code",
   "execution_count": null,
   "metadata": {},
   "outputs": [],
   "source": [
    "import numpy as np\n",
    "import pandas as pd\n",
    "import random\n",
    "f=pd.read_csv(\"/home/mt/learn/NGSIM数据处理/csv/80/4:00-4:15/CL_train41.csv\")\n",
    "ff=pd.read_csv(\"/media/mt/Seagate Backup Plus Drive/csv/80/vehicle-trajectory-data/0400pm-0415pm/trajectories-0400-0415.csv\")\n",
    "f"
   ]
  },
  {
   "cell_type": "code",
   "execution_count": null,
   "metadata": {},
   "outputs": [],
   "source": [
    "f=f.rename(columns={'Preceeding':'Preceding'})\n",
    "num1=int(len(f)/40)\n",
    "id_max=max(ff.Vehicle_ID.values)\n",
    "time_point=0\n",
    "point_list=[]\n",
    "for i in range(num1):\n",
    "    point_list.append(time_point+40*i)\n",
    "point_list"
   ]
  },
  {
   "cell_type": "code",
   "execution_count": null,
   "metadata": {},
   "outputs": [],
   "source": [
    "f1=f.iloc[point_list]\n",
    "f2=f1[['Vehicle_ID','Preceding','Following']].values\n",
    "index=[]\n",
    "for i in range(num1):\n",
    "    if f2[i][1]>id_max or f2[i][2]>id_max:\n",
    "        index.append(i)\n",
    "index_row=[]\n",
    "for i in index:\n",
    "    index_row.extend(a for a in range(i*40,i*40+40))\n",
    "f=f.drop(index_row)\n",
    "f=f.reset_index(drop=True)\n",
    "f.Vehicle_ID=f.Vehicle_ID.astype('object')\n",
    "f.Preceding=f.Preceding.astype('object')\n",
    "f.Following=f.Following.astype('object')\n",
    "f=f.astype('object')\n",
    "f"
   ]
  },
  {
   "cell_type": "code",
   "execution_count": null,
   "metadata": {},
   "outputs": [],
   "source": [
    "num2=int(len(f)/40)\n",
    "point_list2=[]\n",
    "for i in range(num2):\n",
    "    point_list2.append(time_point+40*i)\n",
    "f3=f.iloc[point_list2]\n",
    "f4=f3[['Vehicle_ID','Frame_ID','Preceding','Following']].values\n",
    "f4"
   ]
  },
  {
   "cell_type": "code",
   "execution_count": null,
   "metadata": {},
   "outputs": [],
   "source": [
    "def choose_frame(arr):\n",
    "    Pre = pd.DataFrame(columns=['Vehicle_ID','Frame_ID','Total_Frames','Global_Time','Local_X','Local_Y','Global_X','Global_Y','v_Length','v_Width','v_Class','v_Vel','v_Acc','Lane_ID','Preceding','Following','Space_Headway','Time_Headway'])\n",
    "    Fol = pd.DataFrame(columns=['Vehicle_ID','Frame_ID','Total_Frames','Global_Time','Local_X','Local_Y','Global_X','Global_Y','v_Length','v_Width','v_Class','v_Vel','v_Acc','Lane_ID','Preceding','Following','Space_Headway','Time_Headway'])\n",
    "    shape=np.shape(arr)\n",
    "    for i in range(shape[0]):\n",
    "        a=ff[ff.Vehicle_ID.isin([arr[i][2]])]\n",
    "        b=a[a.Frame_ID.isin([arr[i][1]])]\n",
    "        b['Vehicle_ID1']=arr[i][0]\n",
    "        c=ff[ff.Vehicle_ID.isin([arr[i][3]])]\n",
    "        d=c[c.Frame_ID.isin([arr[i][1]])]\n",
    "        d['Vehicle_ID1']=arr[i][0]\n",
    "        Pre=pd.concat([Pre,b], ignore_index=True)\n",
    "        Fol=pd.concat([Fol,d], ignore_index=True)\n",
    "    return Pre,Fol"
   ]
  },
  {
   "cell_type": "code",
   "execution_count": null,
   "metadata": {},
   "outputs": [],
   "source": [
    "Pre1,Fol1=choose_frame(f4)"
   ]
  },
  {
   "cell_type": "code",
   "execution_count": null,
   "metadata": {
    "scrolled": true
   },
   "outputs": [],
   "source": [
    "Fol1.Vehicle_ID1=Fol1.Vehicle_ID1.astype('object')\n",
    "Pre1.Vehicle_ID1=Pre1.Vehicle_ID1.astype('object')"
   ]
  },
  {
   "cell_type": "code",
   "execution_count": null,
   "metadata": {},
   "outputs": [],
   "source": [
    "Pre1"
   ]
  },
  {
   "cell_type": "code",
   "execution_count": null,
   "metadata": {},
   "outputs": [],
   "source": [
    "Pre1=Pre1[['Vehicle_ID','Frame_ID','Local_X','Local_Y','v_Vel','Vehicle_ID1']]\n",
    "Fol1=Fol1[['Vehicle_ID','Frame_ID','Local_X','Local_Y','v_Vel','Vehicle_ID1']]\n",
    "Pre1.columns=['Preceding','Frame_ID','Pre1_Local_X','Pre1_Local_Y','Pre1_v_Vel','Vehicle_ID']\n",
    "Fol1.columns=['Following','Frame_ID','Fol1_Local_X','Fol1_Local_Y','Fol1_v_Vel','Vehicle_ID']"
   ]
  },
  {
   "cell_type": "code",
   "execution_count": null,
   "metadata": {},
   "outputs": [],
   "source": [
    "Pre1"
   ]
  },
  {
   "cell_type": "code",
   "execution_count": null,
   "metadata": {},
   "outputs": [],
   "source": [
    "pd1=pd.merge(f,Pre1, how='left', on=['Frame_ID','Preceding','Vehicle_ID'])\n",
    "pd2=pd.merge(pd1,Fol1, how='left', on=['Frame_ID','Following','Vehicle_ID'])\n",
    "pd3=pd2.dropna(axis=0,how='any') \n",
    "# pd3\n",
    "# pd2.to_csv(\"/home/mt/learn/NGSIM数据处理/csv/80/单帧提取/zhixing2.csv\")\n",
    "pd3"
   ]
  },
  {
   "cell_type": "code",
   "execution_count": null,
   "metadata": {},
   "outputs": [],
   "source": [
    "\n",
    "# a=ff[ff.Frame_ID.isin([511])]\n",
    "# b=a[a.Lane_ID.isin([3])]\n",
    "# c=pd3.Local_Y.values\n",
    "# d=b.Local_Y.values\n",
    "# x=[]\n",
    "# y=[]\n",
    "# d=list(d)\n",
    "# c=list(c)\n",
    "# for i in range(len(d)):\n",
    "#     e=d[i]-c[0]\n",
    "#     if e>0:\n",
    "#         x.append(e)\n",
    "#     if e<0:\n",
    "#         y.append(e)\n",
    "# h=np.min(x)\n",
    "# z=np.max(y)\n",
    "# z"
   ]
  },
  {
   "cell_type": "code",
   "execution_count": null,
   "metadata": {},
   "outputs": [],
   "source": [
    "useful_pd=pd3[['Vehicle_ID','Frame_ID','Local_X','Local_Y','v_Vel','Lane_ID']]\n",
    "useful_list=useful_pd.values\n",
    "useful_pd"
   ]
  },
  {
   "cell_type": "code",
   "execution_count": null,
   "metadata": {},
   "outputs": [],
   "source": [
    "useful_list"
   ]
  },
  {
   "cell_type": "code",
   "execution_count": null,
   "metadata": {},
   "outputs": [],
   "source": [
    "def NB(arr):\n",
    "    shape=np.shape(arr)\n",
    "    Pre2=[]\n",
    "    Fol2=[]\n",
    "    for i in range(shape[0]):\n",
    "        x=[]\n",
    "        y=[]\n",
    "        a=ff[ff.Frame_ID.isin([arr[i][1]])]\n",
    "        if arr[i][5]==1:   \n",
    "            b=a[a.Lane_ID.isin([2])]\n",
    "        else:\n",
    "            b=a[a.Lane_ID.isin([arr[i][5]-1])]\n",
    "        c=b.Local_Y.values\n",
    "        for valuey in range(len(c)):\n",
    "            d=c[valuey]-arr[i][3]\n",
    "            if d>0:\n",
    "                x.append(d)\n",
    "            if d<0:\n",
    "                y.append(d)\n",
    "        if x!=[]:\n",
    "            pre_x=np.min(x)\n",
    "        else:\n",
    "            pre_x=0\n",
    "        if y!=[]:\n",
    "            fol_y=np.max(y)\n",
    "        else:\n",
    "            fol_y=0\n",
    "        Pre2.append(pre_x)\n",
    "        Fol2.append(fol_y)\n",
    "    return Pre2,Fol2         "
   ]
  },
  {
   "cell_type": "code",
   "execution_count": null,
   "metadata": {},
   "outputs": [],
   "source": [
    "np.shape(useful_list)"
   ]
  },
  {
   "cell_type": "code",
   "execution_count": null,
   "metadata": {},
   "outputs": [],
   "source": [
    "Pre2,Fol2=NB(useful_list)"
   ]
  },
  {
   "cell_type": "code",
   "execution_count": null,
   "metadata": {},
   "outputs": [],
   "source": [
    "np.shape(Pre2)"
   ]
  },
  {
   "cell_type": "code",
   "execution_count": null,
   "metadata": {},
   "outputs": [],
   "source": [
    "Pre2"
   ]
  },
  {
   "cell_type": "code",
   "execution_count": null,
   "metadata": {},
   "outputs": [],
   "source": [
    "Fol2"
   ]
  },
  {
   "cell_type": "code",
   "execution_count": null,
   "metadata": {},
   "outputs": [],
   "source": [
    "Pr2=pd.DataFrame(columns=['y3'], data =Pre2)\n",
    "Fo2=pd.DataFrame(columns=['y4'], data =Fol2)\n",
    "Fo2"
   ]
  },
  {
   "cell_type": "code",
   "execution_count": null,
   "metadata": {},
   "outputs": [],
   "source": [
    "pd4=pd3[['Local_Y','Pre1_Local_Y','Fol1_Local_Y','v_Vel','Pre1_v_Vel','Fol1_v_Vel']]\n",
    "pd4"
   ]
  },
  {
   "cell_type": "code",
   "execution_count": null,
   "metadata": {},
   "outputs": [],
   "source": [
    "y_list=pd4.Local_Y.values\n",
    "y1_list=pd4.Pre1_Local_Y.values\n",
    "y2_list=pd4.Fol1_Local_Y.values\n",
    "v_list=pd4.v_Vel.values\n",
    "v1_list=pd4.Pre1_v_Vel.values\n",
    "v2_list=pd4.Fol1_v_Vel.values"
   ]
  },
  {
   "cell_type": "code",
   "execution_count": null,
   "metadata": {},
   "outputs": [],
   "source": [
    "y1=y1_list-y_list\n",
    "y2=y2_list-y_list\n",
    "v1=v_list-v1_list\n",
    "v2=v_list-v2_list\n",
    "Pr1=pd.DataFrame(columns=['y1'], data =y1)\n",
    "Fo1=pd.DataFrame(columns=['y2'], data =y2)\n",
    "pre_v=pd.DataFrame(columns=['v1'], data =v1)\n",
    "fol_v=pd.DataFrame(columns=['v2'], data =v2)"
   ]
  },
  {
   "cell_type": "code",
   "execution_count": null,
   "metadata": {},
   "outputs": [],
   "source": [
    "pd5=pd3[['Vehicle_ID','Frame_ID']]\n",
    "pd5=pd5.reset_index(drop=True)\n",
    "pd6=pd.concat([pd5,pre_v,fol_v,Pr1,Fo1,Pr2,Fo2],axis=1)\n",
    "# pd6.to_csv(\"/home/mt/learn/NGSIM数据处理/csv/80/单帧提取/zhixing.csv\")\n",
    "# pd6['label']=0\n",
    "pd6"
   ]
  },
  {
   "cell_type": "code",
   "execution_count": null,
   "metadata": {},
   "outputs": [],
   "source": [
    "pd6=pd6.dropna(axis=0,how='any') \n",
    "pd6 = pd6[pd6!= 0]\n",
    "pd6.dropna(axis=0, how='any', inplace=True)\n",
    "pd6['label']=0"
   ]
  },
  {
   "cell_type": "code",
   "execution_count": null,
   "metadata": {},
   "outputs": [],
   "source": [
    "pd6.to_csv(\"/home/mt/learn/NGSIM数据处理/csv/80/4:00-4:15/new/zhixing.csv\",index=0)"
   ]
  }
 ],
 "metadata": {
  "kernelspec": {
   "display_name": "Python 3",
   "language": "python",
   "name": "python3"
  },
  "language_info": {
   "codemirror_mode": {
    "name": "ipython",
    "version": 3
   },
   "file_extension": ".py",
   "mimetype": "text/x-python",
   "name": "python",
   "nbconvert_exporter": "python",
   "pygments_lexer": "ipython3",
   "version": "3.5.2"
  }
 },
 "nbformat": 4,
 "nbformat_minor": 2
}
